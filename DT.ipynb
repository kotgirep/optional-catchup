{
  "nbformat": 4,
  "nbformat_minor": 0,
  "metadata": {
    "colab": {
      "name": "DT.ipynb",
      "provenance": [],
      "collapsed_sections": []
    },
    "kernelspec": {
      "name": "python3",
      "display_name": "Python 3"
    }
  },
  "cells": [
    {
      "cell_type": "code",
      "metadata": {
        "id": "ODAc39YFqkYt",
        "outputId": "acdd6073-79b1-424a-e119-08fde80b1d74",
        "colab": {
          "base_uri": "https://localhost:8080/"
        }
      },
      "source": [
        "from google.colab import drive\n",
        "drive.mount('/content/drive')"
      ],
      "execution_count": 1,
      "outputs": [
        {
          "output_type": "stream",
          "name": "stdout",
          "text": [
            "Mounted at /content/drive\n"
          ]
        }
      ]
    },
    {
      "cell_type": "code",
      "metadata": {
        "id": "lu3xpe6Cq0cN",
        "outputId": "228c3926-98ba-49c7-fde5-c7bb6c9c33ad",
        "colab": {
          "base_uri": "https://localhost:8080/",
          "height": 313
        }
      },
      "source": [
        "#Importing the libraries required\n",
        "import pandas as pd\n",
        "import numpy as np\n",
        "\n",
        "#importing the dataset\n",
        "train=pd.read_csv(\"/content/drive/My Drive/BigMart_dataset/Walmart_Train.csv\",na_values={\"Item_Visibility\":[0]})\n",
        "\n",
        "print(\"printing the train dataset\")\n",
        "train.head(5)\n",
        "\n",
        "\n",
        "\n",
        "test=pd.read_csv(\"/content/drive/My Drive/BigMart_dataset/Test.csv\",na_values={\"Item_Visibility\":[0]})\n",
        "\n",
        "\n",
        "print(\"printing the test dataset\")\n",
        "test.head(5)\n",
        "\n",
        "\n"
      ],
      "execution_count": null,
      "outputs": [
        {
          "output_type": "stream",
          "text": [
            "printing the train dataset\n",
            "printing the test dataset\n"
          ],
          "name": "stdout"
        },
        {
          "output_type": "execute_result",
          "data": {
            "text/html": [
              "<div>\n",
              "<style scoped>\n",
              "    .dataframe tbody tr th:only-of-type {\n",
              "        vertical-align: middle;\n",
              "    }\n",
              "\n",
              "    .dataframe tbody tr th {\n",
              "        vertical-align: top;\n",
              "    }\n",
              "\n",
              "    .dataframe thead th {\n",
              "        text-align: right;\n",
              "    }\n",
              "</style>\n",
              "<table border=\"1\" class=\"dataframe\">\n",
              "  <thead>\n",
              "    <tr style=\"text-align: right;\">\n",
              "      <th></th>\n",
              "      <th>Item_Identifier</th>\n",
              "      <th>Item_Weight</th>\n",
              "      <th>Item_Fat_Content</th>\n",
              "      <th>Item_Visibility</th>\n",
              "      <th>Item_Type</th>\n",
              "      <th>Item_MRP</th>\n",
              "      <th>Outlet_Identifier</th>\n",
              "      <th>Outlet_Establishment_Year</th>\n",
              "      <th>Outlet_Size</th>\n",
              "      <th>Outlet_Location_Type</th>\n",
              "      <th>Outlet_Type</th>\n",
              "    </tr>\n",
              "  </thead>\n",
              "  <tbody>\n",
              "    <tr>\n",
              "      <th>0</th>\n",
              "      <td>FDW58</td>\n",
              "      <td>20.750</td>\n",
              "      <td>Low Fat</td>\n",
              "      <td>0.007565</td>\n",
              "      <td>Snack Foods</td>\n",
              "      <td>107.8622</td>\n",
              "      <td>OUT049</td>\n",
              "      <td>1999</td>\n",
              "      <td>Medium</td>\n",
              "      <td>Tier 1</td>\n",
              "      <td>Supermarket Type1</td>\n",
              "    </tr>\n",
              "    <tr>\n",
              "      <th>1</th>\n",
              "      <td>FDW14</td>\n",
              "      <td>8.300</td>\n",
              "      <td>reg</td>\n",
              "      <td>0.038428</td>\n",
              "      <td>Dairy</td>\n",
              "      <td>87.3198</td>\n",
              "      <td>OUT017</td>\n",
              "      <td>2007</td>\n",
              "      <td>NaN</td>\n",
              "      <td>Tier 2</td>\n",
              "      <td>Supermarket Type1</td>\n",
              "    </tr>\n",
              "    <tr>\n",
              "      <th>2</th>\n",
              "      <td>NCN55</td>\n",
              "      <td>14.600</td>\n",
              "      <td>Low Fat</td>\n",
              "      <td>0.099575</td>\n",
              "      <td>Others</td>\n",
              "      <td>241.7538</td>\n",
              "      <td>OUT010</td>\n",
              "      <td>1998</td>\n",
              "      <td>NaN</td>\n",
              "      <td>Tier 3</td>\n",
              "      <td>Grocery Store</td>\n",
              "    </tr>\n",
              "    <tr>\n",
              "      <th>3</th>\n",
              "      <td>FDQ58</td>\n",
              "      <td>7.315</td>\n",
              "      <td>Low Fat</td>\n",
              "      <td>0.015388</td>\n",
              "      <td>Snack Foods</td>\n",
              "      <td>155.0340</td>\n",
              "      <td>OUT017</td>\n",
              "      <td>2007</td>\n",
              "      <td>NaN</td>\n",
              "      <td>Tier 2</td>\n",
              "      <td>Supermarket Type1</td>\n",
              "    </tr>\n",
              "    <tr>\n",
              "      <th>4</th>\n",
              "      <td>FDY38</td>\n",
              "      <td>NaN</td>\n",
              "      <td>Regular</td>\n",
              "      <td>0.118599</td>\n",
              "      <td>Dairy</td>\n",
              "      <td>234.2300</td>\n",
              "      <td>OUT027</td>\n",
              "      <td>1985</td>\n",
              "      <td>Medium</td>\n",
              "      <td>Tier 3</td>\n",
              "      <td>Supermarket Type3</td>\n",
              "    </tr>\n",
              "  </tbody>\n",
              "</table>\n",
              "</div>"
            ],
            "text/plain": [
              "  Item_Identifier  Item_Weight  ... Outlet_Location_Type        Outlet_Type\n",
              "0           FDW58       20.750  ...               Tier 1  Supermarket Type1\n",
              "1           FDW14        8.300  ...               Tier 2  Supermarket Type1\n",
              "2           NCN55       14.600  ...               Tier 3      Grocery Store\n",
              "3           FDQ58        7.315  ...               Tier 2  Supermarket Type1\n",
              "4           FDY38          NaN  ...               Tier 3  Supermarket Type3\n",
              "\n",
              "[5 rows x 11 columns]"
            ]
          },
          "metadata": {
            "tags": []
          },
          "execution_count": 2
        }
      ]
    },
    {
      "cell_type": "code",
      "metadata": {
        "id": "6d5cvH3er9wv"
      },
      "source": [
        "#merging the dataset\n",
        "\n",
        "train['source']='train'\n",
        "\n",
        "test['source']='test'\n",
        "\n",
        "data=pd.concat([train,test],ignore_index=True, sort= False)"
      ],
      "execution_count": null,
      "outputs": []
    },
    {
      "cell_type": "code",
      "metadata": {
        "id": "CAHjrcVftP1f",
        "outputId": "9dfdc036-aeee-49bf-b222-b6a5d1e71480",
        "colab": {
          "base_uri": "https://localhost:8080/",
          "height": 202
        }
      },
      "source": [
        "#the one thing we have to focus is item_outlet_Sales\n",
        "\n",
        "\n",
        "discpt=data.describe()\n",
        "print(discpt)"
      ],
      "execution_count": null,
      "outputs": [
        {
          "output_type": "stream",
          "text": [
            "        Item_Weight  ...  Item_Outlet_Sales\n",
            "count  11765.000000  ...        8523.000000\n",
            "mean      12.792854  ...        2181.288914\n",
            "std        4.652502  ...        1706.499616\n",
            "min        4.555000  ...          33.290000\n",
            "25%        8.710000  ...         834.247400\n",
            "50%       12.600000  ...        1794.331000\n",
            "75%       16.750000  ...        3101.296400\n",
            "max       21.350000  ...       13086.964800\n",
            "\n",
            "[8 rows x 5 columns]\n"
          ],
          "name": "stdout"
        }
      ]
    },
    {
      "cell_type": "code",
      "metadata": {
        "id": "0kxPvO_AtaX3",
        "outputId": "dd7ca9ef-8710-4edb-f26f-cc6b784195ea",
        "colab": {
          "base_uri": "https://localhost:8080/",
          "height": 252
        }
      },
      "source": [
        "#Lets find out how many  zero'es values are\n",
        "\n",
        "nan_descript=data.apply(lambda x: sum(x.isnull()))\n",
        "\n",
        "print(nan_descript)"
      ],
      "execution_count": null,
      "outputs": [
        {
          "output_type": "stream",
          "text": [
            "Item_Identifier                 0\n",
            "Item_Weight                  2439\n",
            "Item_Fat_Content                0\n",
            "Item_Visibility               879\n",
            "Item_Type                       0\n",
            "Item_MRP                        0\n",
            "Outlet_Identifier               0\n",
            "Outlet_Establishment_Year       0\n",
            "Outlet_Size                  4016\n",
            "Outlet_Location_Type            0\n",
            "Outlet_Type                     0\n",
            "Item_Outlet_Sales            5681\n",
            "source                          0\n",
            "dtype: int64\n"
          ],
          "name": "stdout"
        }
      ]
    },
    {
      "cell_type": "code",
      "metadata": {
        "id": "xL9mH_fEtnwG",
        "outputId": "fd74e423-b1b4-4cdb-fe64-c6c397fd9671",
        "colab": {
          "base_uri": "https://localhost:8080/",
          "height": 252
        }
      },
      "source": [
        "#Now lets find out the unique values in each of the catogorical columns\n",
        "\n",
        "uniq=data.apply(lambda x: len(x.unique()))\n",
        "\n",
        "print(uniq)"
      ],
      "execution_count": null,
      "outputs": [
        {
          "output_type": "stream",
          "text": [
            "Item_Identifier               1559\n",
            "Item_Weight                    416\n",
            "Item_Fat_Content                 5\n",
            "Item_Visibility              13006\n",
            "Item_Type                       16\n",
            "Item_MRP                      8052\n",
            "Outlet_Identifier               10\n",
            "Outlet_Establishment_Year        9\n",
            "Outlet_Size                      4\n",
            "Outlet_Location_Type             3\n",
            "Outlet_Type                      4\n",
            "Item_Outlet_Sales             3494\n",
            "source                           2\n",
            "dtype: int64\n"
          ],
          "name": "stdout"
        }
      ]
    },
    {
      "cell_type": "code",
      "metadata": {
        "id": "q34QVOgttvAW",
        "outputId": "0968e1c8-70bc-4cfd-8453-f0714586f327",
        "colab": {
          "base_uri": "https://localhost:8080/",
          "height": 672
        }
      },
      "source": [
        "#let do grouping in each catogorical columns\n",
        "\n",
        "col=[\"Item_Fat_Content\",\"Item_Type\",\"Outlet_Location_Type\",\"Outlet_Size\"]\n",
        "\n",
        "for i in col:\n",
        "    print(\"The frequency distribution of each catogorical columns is--\" + i+\"\\n\")\n",
        "    print(data[i].value_counts())  "
      ],
      "execution_count": null,
      "outputs": [
        {
          "output_type": "stream",
          "text": [
            "The frequency distribution of each catogorical columns is--Item_Fat_Content\n",
            "\n",
            "Low Fat    8485\n",
            "Regular    4824\n",
            "LF          522\n",
            "reg         195\n",
            "low fat     178\n",
            "Name: Item_Fat_Content, dtype: int64\n",
            "The frequency distribution of each catogorical columns is--Item_Type\n",
            "\n",
            "Fruits and Vegetables    2013\n",
            "Snack Foods              1989\n",
            "Household                1548\n",
            "Frozen Foods             1426\n",
            "Dairy                    1136\n",
            "Baking Goods             1086\n",
            "Canned                   1084\n",
            "Health and Hygiene        858\n",
            "Meat                      736\n",
            "Soft Drinks               726\n",
            "Breads                    416\n",
            "Hard Drinks               362\n",
            "Others                    280\n",
            "Starchy Foods             269\n",
            "Breakfast                 186\n",
            "Seafood                    89\n",
            "Name: Item_Type, dtype: int64\n",
            "The frequency distribution of each catogorical columns is--Outlet_Location_Type\n",
            "\n",
            "Tier 3    5583\n",
            "Tier 2    4641\n",
            "Tier 1    3980\n",
            "Name: Outlet_Location_Type, dtype: int64\n",
            "The frequency distribution of each catogorical columns is--Outlet_Size\n",
            "\n",
            "Medium    4655\n",
            "Small     3980\n",
            "High      1553\n",
            "Name: Outlet_Size, dtype: int64\n"
          ],
          "name": "stdout"
        }
      ]
    },
    {
      "cell_type": "code",
      "metadata": {
        "id": "mzcw1TE1t55i"
      },
      "source": [
        "#Replacing the minimum nan values in the Item_Weight with its mean value\n",
        "\n",
        "data.fillna({\"Item_Weight\":data[\"Item_Weight\"].mean()},inplace=True)"
      ],
      "execution_count": null,
      "outputs": []
    },
    {
      "cell_type": "code",
      "metadata": {
        "id": "6Ww-0ZuquLLN"
      },
      "source": [
        "#checking the current status of  nan values in the dataframe\n",
        "nan_descript=data.apply(lambda x: sum(x.isnull()))"
      ],
      "execution_count": null,
      "outputs": []
    },
    {
      "cell_type": "code",
      "metadata": {
        "id": "ioprRFOquM91"
      },
      "source": [
        "#Now we have 0 nan valuesin Item_Weight\n",
        "\n",
        "\n",
        "data[\"Outlet_Size\"].fillna(method=\"ffill\",inplace=True)\n",
        "\n",
        "\n",
        "nan_descript=data.apply(lambda x: sum(x.isnull()))\n"
      ],
      "execution_count": null,
      "outputs": []
    },
    {
      "cell_type": "code",
      "metadata": {
        "id": "nwrK3I0wuURA",
        "outputId": "183f5c77-3757-4847-b181-7fdea95bf997",
        "colab": {
          "base_uri": "https://localhost:8080/",
          "height": 101
        }
      },
      "source": [
        "#Now working on the item_visibility\n",
        "\n",
        "\n",
        "visibilty_avg=data.pivot_table(values=\"Item_Visibility\",index=\"Item_Identifier\")\n",
        "\n",
        "\n",
        "itm_visi=data.groupby('Item_Type')\n",
        "\n",
        "data_frames=[]\n",
        "for item,item_df in itm_visi:\n",
        "    data_frames.append(itm_visi.get_group(item))\n",
        "for i in data_frames:\n",
        "    i[\"Item_Visibility\"].fillna(value=i[\"Item_Visibility\"].mean(),inplace=True)\n",
        "    i[\"Item_Outlet_Sales\"].fillna(value=i[\"Item_Outlet_Sales\"].mean(),inplace=True)"
      ],
      "execution_count": null,
      "outputs": [
        {
          "output_type": "stream",
          "text": [
            "/usr/local/lib/python3.6/dist-packages/pandas/core/generic.py:6130: SettingWithCopyWarning: \n",
            "A value is trying to be set on a copy of a slice from a DataFrame\n",
            "\n",
            "See the caveats in the documentation: http://pandas.pydata.org/pandas-docs/stable/indexing.html#indexing-view-versus-copy\n",
            "  self._update_inplace(new_data)\n"
          ],
          "name": "stderr"
        }
      ]
    },
    {
      "cell_type": "code",
      "metadata": {
        "id": "z1UErxs7vt_b",
        "outputId": "559ac030-95f7-4716-dd9a-773b6043afcc",
        "colab": {
          "base_uri": "https://localhost:8080/",
          "height": 1000
        }
      },
      "source": [
        "new_data=pd.concat(data_frames)\n",
        "\n",
        "print(new_data)\n",
        "\n",
        "nan_descript=new_data.apply(lambda x: sum(x.isnull()))\n",
        "\n",
        "print(nan_descript)"
      ],
      "execution_count": null,
      "outputs": [
        {
          "output_type": "stream",
          "text": [
            "      Item_Identifier  Item_Weight  ... Item_Outlet_Sales  source\n",
            "5               FDP36    10.395000  ...        556.608800   train\n",
            "21              FDW12    12.792854  ...       4064.043200   train\n",
            "23              FDC37    12.792854  ...        214.387600   train\n",
            "48              FDL12    15.850000  ...       2576.646000   train\n",
            "71              FDL12    15.850000  ...        599.220000   train\n",
            "77              FDN48    12.792854  ...        643.162800   train\n",
            "84              FDR12    12.792854  ...       3091.975200   train\n",
            "106             FDA47    10.500000  ...       1794.331000   train\n",
            "107             FDG12     6.635000  ...       2530.705800   train\n",
            "156             FDB36     5.465000  ...        262.325200   train\n",
            "179             FDO24    11.100000  ...       3010.747600   train\n",
            "184             FDT12    12.792854  ...       4739.830200   train\n",
            "201             FDE36     5.260000  ...       3275.736000   train\n",
            "203             FDI24    12.792854  ...       6704.606000   train\n",
            "205             FDF24    15.500000  ...        327.573600   train\n",
            "220             FDY24     4.880000  ...       1995.402600   train\n",
            "221             FDC60     5.425000  ...       1416.822400   train\n",
            "259             FDS12     9.100000  ...       4655.939400   train\n",
            "267             FDG24     7.975000  ...       1081.925000   train\n",
            "294             FDV60    12.792854  ...       5499.508000   train\n",
            "295             FDY59     8.195000  ...        925.462000   train\n",
            "296             FDK36     7.090000  ...        583.240800   train\n",
            "299             FDU36     6.150000  ...       2364.921600   train\n",
            "308             FDX23     6.445000  ...       1039.979600   train\n",
            "321             FDX36     9.695000  ...       4950.888800   train\n",
            "331             FDN60    12.792854  ...       4278.430800   train\n",
            "341             FDR24    17.350000  ...        539.298000   train\n",
            "362             FDX60    14.350000  ...        878.856000   train\n",
            "405             FDW24    12.792854  ...         48.603400   train\n",
            "407             FDM60    10.800000  ...        690.434600   train\n",
            "...               ...          ...  ...               ...     ...\n",
            "13006           FDF47    20.850000  ...       2374.332773    test\n",
            "13011           FDB23    19.200000  ...       2374.332773    test\n",
            "13054           FDC11    20.500000  ...       2374.332773    test\n",
            "13063           FDE11    17.700000  ...       2374.332773    test\n",
            "13093           FDC23    12.792854  ...       2374.332773    test\n",
            "13104           FDC23    18.000000  ...       2374.332773    test\n",
            "13153           FDF47    20.850000  ...       2374.332773    test\n",
            "13170           FDD23     9.500000  ...       2374.332773    test\n",
            "13234           FDF11    10.195000  ...       2374.332773    test\n",
            "13248           FDB11    16.000000  ...       2374.332773    test\n",
            "13482           FDF59    12.792854  ...       2374.332773    test\n",
            "13508           FDE23    17.600000  ...       2374.332773    test\n",
            "13560           FDG47    12.792854  ...       2374.332773    test\n",
            "13632           FDG59    15.850000  ...       2374.332773    test\n",
            "13634           FDF59    12.500000  ...       2374.332773    test\n",
            "13699           FDI35    14.000000  ...       2374.332773    test\n",
            "13790           FDE59    12.150000  ...       2374.332773    test\n",
            "13802           FDD59    10.500000  ...       2374.332773    test\n",
            "13854           FDF59    12.792854  ...       2374.332773    test\n",
            "13892           FDE47    14.150000  ...       2374.332773    test\n",
            "13924           FDH47    12.792854  ...       2374.332773    test\n",
            "13939           FDE35     7.060000  ...       2374.332773    test\n",
            "13969           FDE35     7.060000  ...       2374.332773    test\n",
            "13980           FDF47    20.850000  ...       2374.332773    test\n",
            "13995           FDG59    15.850000  ...       2374.332773    test\n",
            "13998           FDC59    12.792854  ...       2374.332773    test\n",
            "14016           FDF11    10.195000  ...       2374.332773    test\n",
            "14109           FDA22     7.435000  ...       2374.332773    test\n",
            "14174           FDD23     9.500000  ...       2374.332773    test\n",
            "14200           FDD47     7.600000  ...       2374.332773    test\n",
            "\n",
            "[14204 rows x 13 columns]\n",
            "Item_Identifier              0\n",
            "Item_Weight                  0\n",
            "Item_Fat_Content             0\n",
            "Item_Visibility              0\n",
            "Item_Type                    0\n",
            "Item_MRP                     0\n",
            "Outlet_Identifier            0\n",
            "Outlet_Establishment_Year    0\n",
            "Outlet_Size                  0\n",
            "Outlet_Location_Type         0\n",
            "Outlet_Type                  0\n",
            "Item_Outlet_Sales            0\n",
            "source                       0\n",
            "dtype: int64\n"
          ],
          "name": "stdout"
        }
      ]
    },
    {
      "cell_type": "code",
      "metadata": {
        "id": "a8_BwJcKv8Xh",
        "outputId": "11b298aa-5749-4600-f365-7cbb87226613",
        "colab": {
          "base_uri": "https://localhost:8080/",
          "height": 299
        }
      },
      "source": [
        "#Now we have successfully cleaned our complete dataset.\n",
        "new_data[\"Item_Fat_Content\"].replace({'LF':'Low Fat','reg':'Regular','low fat':'Low Fat'},inplace=True)\n",
        "\n",
        "new_data[\"Item_Fat_Content\"].value_counts()\n",
        "\n",
        "new_data.head(5)"
      ],
      "execution_count": null,
      "outputs": [
        {
          "output_type": "execute_result",
          "data": {
            "text/html": [
              "<div>\n",
              "<style scoped>\n",
              "    .dataframe tbody tr th:only-of-type {\n",
              "        vertical-align: middle;\n",
              "    }\n",
              "\n",
              "    .dataframe tbody tr th {\n",
              "        vertical-align: top;\n",
              "    }\n",
              "\n",
              "    .dataframe thead th {\n",
              "        text-align: right;\n",
              "    }\n",
              "</style>\n",
              "<table border=\"1\" class=\"dataframe\">\n",
              "  <thead>\n",
              "    <tr style=\"text-align: right;\">\n",
              "      <th></th>\n",
              "      <th>Item_Identifier</th>\n",
              "      <th>Item_Weight</th>\n",
              "      <th>Item_Fat_Content</th>\n",
              "      <th>Item_Visibility</th>\n",
              "      <th>Item_Type</th>\n",
              "      <th>Item_MRP</th>\n",
              "      <th>Outlet_Identifier</th>\n",
              "      <th>Outlet_Establishment_Year</th>\n",
              "      <th>Outlet_Size</th>\n",
              "      <th>Outlet_Location_Type</th>\n",
              "      <th>Outlet_Type</th>\n",
              "      <th>Item_Outlet_Sales</th>\n",
              "      <th>source</th>\n",
              "    </tr>\n",
              "  </thead>\n",
              "  <tbody>\n",
              "    <tr>\n",
              "      <th>5</th>\n",
              "      <td>FDP36</td>\n",
              "      <td>10.395000</td>\n",
              "      <td>Regular</td>\n",
              "      <td>0.073297</td>\n",
              "      <td>Baking Goods</td>\n",
              "      <td>51.4008</td>\n",
              "      <td>OUT018</td>\n",
              "      <td>2009</td>\n",
              "      <td>Medium</td>\n",
              "      <td>Tier 3</td>\n",
              "      <td>Supermarket Type2</td>\n",
              "      <td>556.6088</td>\n",
              "      <td>train</td>\n",
              "    </tr>\n",
              "    <tr>\n",
              "      <th>21</th>\n",
              "      <td>FDW12</td>\n",
              "      <td>12.792854</td>\n",
              "      <td>Regular</td>\n",
              "      <td>0.035400</td>\n",
              "      <td>Baking Goods</td>\n",
              "      <td>144.5444</td>\n",
              "      <td>OUT027</td>\n",
              "      <td>1985</td>\n",
              "      <td>Medium</td>\n",
              "      <td>Tier 3</td>\n",
              "      <td>Supermarket Type3</td>\n",
              "      <td>4064.0432</td>\n",
              "      <td>train</td>\n",
              "    </tr>\n",
              "    <tr>\n",
              "      <th>23</th>\n",
              "      <td>FDC37</td>\n",
              "      <td>12.792854</td>\n",
              "      <td>Low Fat</td>\n",
              "      <td>0.057557</td>\n",
              "      <td>Baking Goods</td>\n",
              "      <td>107.6938</td>\n",
              "      <td>OUT019</td>\n",
              "      <td>1985</td>\n",
              "      <td>Small</td>\n",
              "      <td>Tier 1</td>\n",
              "      <td>Grocery Store</td>\n",
              "      <td>214.3876</td>\n",
              "      <td>train</td>\n",
              "    </tr>\n",
              "    <tr>\n",
              "      <th>48</th>\n",
              "      <td>FDL12</td>\n",
              "      <td>15.850000</td>\n",
              "      <td>Regular</td>\n",
              "      <td>0.121633</td>\n",
              "      <td>Baking Goods</td>\n",
              "      <td>60.6220</td>\n",
              "      <td>OUT046</td>\n",
              "      <td>1997</td>\n",
              "      <td>Small</td>\n",
              "      <td>Tier 1</td>\n",
              "      <td>Supermarket Type1</td>\n",
              "      <td>2576.6460</td>\n",
              "      <td>train</td>\n",
              "    </tr>\n",
              "    <tr>\n",
              "      <th>71</th>\n",
              "      <td>FDL12</td>\n",
              "      <td>15.850000</td>\n",
              "      <td>Regular</td>\n",
              "      <td>0.121532</td>\n",
              "      <td>Baking Goods</td>\n",
              "      <td>59.2220</td>\n",
              "      <td>OUT013</td>\n",
              "      <td>1987</td>\n",
              "      <td>High</td>\n",
              "      <td>Tier 3</td>\n",
              "      <td>Supermarket Type1</td>\n",
              "      <td>599.2200</td>\n",
              "      <td>train</td>\n",
              "    </tr>\n",
              "  </tbody>\n",
              "</table>\n",
              "</div>"
            ],
            "text/plain": [
              "   Item_Identifier  Item_Weight  ... Item_Outlet_Sales  source\n",
              "5            FDP36    10.395000  ...          556.6088   train\n",
              "21           FDW12    12.792854  ...         4064.0432   train\n",
              "23           FDC37    12.792854  ...          214.3876   train\n",
              "48           FDL12    15.850000  ...         2576.6460   train\n",
              "71           FDL12    15.850000  ...          599.2200   train\n",
              "\n",
              "[5 rows x 13 columns]"
            ]
          },
          "metadata": {
            "tags": []
          },
          "execution_count": 16
        }
      ]
    },
    {
      "cell_type": "code",
      "metadata": {
        "id": "L1Yv3RWnwJ6h"
      },
      "source": [
        "#Implementing one-hot-Coding method for getting the categorical variables\n",
        "from sklearn.preprocessing import LabelEncoder\n",
        "le = LabelEncoder()\n",
        "data=new_data\n",
        "data['Outlet'] = le.fit_transform(data['Outlet_Identifier'])\n",
        "var_mod = ['Item_Fat_Content','Outlet_Location_Type','Outlet_Size','Item_Type','Outlet_Type']\n",
        "le = LabelEncoder()\n",
        "for i in var_mod:\n",
        "    data[i] = le.fit_transform(data[i])\n",
        "#One Hot Coding:\n",
        "data = pd.get_dummies(data, columns=['Item_Fat_Content','Outlet_Location_Type','Outlet_Size','Outlet_Type',\n",
        "                              'Item_Type'])\n"
      ],
      "execution_count": null,
      "outputs": []
    },
    {
      "cell_type": "code",
      "metadata": {
        "id": "FBMeRLw0wQJi"
      },
      "source": [
        "#Exporting the datas\n",
        "\n",
        "train = data.loc[data['source']==\"train\"]\n",
        "\n",
        "test = data.loc[data['source']==\"test\"]"
      ],
      "execution_count": null,
      "outputs": []
    },
    {
      "cell_type": "code",
      "metadata": {
        "id": "2EjykFKLwVJc",
        "outputId": "fe9fae5b-f1a3-4b25-f9c8-8d79501140dd",
        "colab": {
          "base_uri": "https://localhost:8080/",
          "height": 101
        }
      },
      "source": [
        "#Drop unnecessary columns:\n",
        "test.drop(['Item_Outlet_Sales','source'],axis=1,inplace=True)\n",
        "#here we are droping the \"Item_Outlet_Sales because this only we want to be predicted from the model that we are going to built\n",
        "train.drop(['source'],axis=1,inplace=True)"
      ],
      "execution_count": null,
      "outputs": [
        {
          "output_type": "stream",
          "text": [
            "/usr/local/lib/python3.6/dist-packages/pandas/core/frame.py:3940: SettingWithCopyWarning: \n",
            "A value is trying to be set on a copy of a slice from a DataFrame\n",
            "\n",
            "See the caveats in the documentation: http://pandas.pydata.org/pandas-docs/stable/indexing.html#indexing-view-versus-copy\n",
            "  errors=errors)\n"
          ],
          "name": "stderr"
        }
      ]
    },
    {
      "cell_type": "code",
      "metadata": {
        "id": "cdAnIi0fwc36"
      },
      "source": [
        "#Export files as modified versions:\n",
        "train.to_csv(\"/content/drive/My Drive/BigMart_dataset/train_modified.csv\",index=False)\n",
        "test.to_csv(\"/content/drive/My Drive/BigMart_dataset/test_modified.csv\",index=False)\n"
      ],
      "execution_count": null,
      "outputs": []
    },
    {
      "cell_type": "code",
      "metadata": {
        "id": "rbUcKX5twnih",
        "outputId": "8ed3a98b-5ec5-426d-f8af-516e33ca8eed",
        "colab": {
          "base_uri": "https://localhost:8080/",
          "height": 118
        }
      },
      "source": [
        "#Let's start building the baseline model as  it is non -predicting model and also commenly known as informed guess\n",
        "\n",
        "#Mean based:\n",
        "mean_sales = train['Item_Outlet_Sales'].mean()\n",
        "\n",
        "#Define a dataframe with IDs for submission:\n",
        "base1 = test[['Item_Identifier','Outlet_Identifier']]\n",
        "base1['Item_Outlet_Sales'] = mean_sales"
      ],
      "execution_count": null,
      "outputs": [
        {
          "output_type": "stream",
          "text": [
            "/usr/local/lib/python3.6/dist-packages/ipykernel_launcher.py:5: SettingWithCopyWarning: \n",
            "A value is trying to be set on a copy of a slice from a DataFrame.\n",
            "Try using .loc[row_indexer,col_indexer] = value instead\n",
            "\n",
            "See the caveats in the documentation: http://pandas.pydata.org/pandas-docs/stable/indexing.html#indexing-view-versus-copy\n",
            "  \"\"\"\n"
          ],
          "name": "stderr"
        }
      ]
    },
    {
      "cell_type": "code",
      "metadata": {
        "id": "vL-DnLGhwxjT"
      },
      "source": [
        "#Export submission file\n",
        "base1.to_csv(\"alg0.csv\",index=False)\n"
      ],
      "execution_count": null,
      "outputs": []
    },
    {
      "cell_type": "code",
      "metadata": {
        "id": "D64_OBXDw2pL",
        "outputId": "e577837e-f2d8-46b7-cca9-4d6be12a9db2",
        "colab": {
          "base_uri": "https://localhost:8080/",
          "height": 34
        }
      },
      "source": [
        "'''Very Important Note for creating baseline model\n",
        "making baseline models helps in setting a benchmark. \n",
        "If your predictive algorithm is below this, there is something going seriously wrong and \n",
        "we  should check your data.'''\n",
        "\n",
        "#Define target and ID columns:\n",
        "target = 'Item_Outlet_Sales'\n",
        "IDcol = ['Item_Identifier','Outlet_Identifier']\n",
        "\n",
        "print(target)\n"
      ],
      "execution_count": null,
      "outputs": [
        {
          "output_type": "stream",
          "text": [
            "Item_Outlet_Sales\n"
          ],
          "name": "stdout"
        }
      ]
    },
    {
      "cell_type": "code",
      "metadata": {
        "id": "WQ3EPhTzw60i"
      },
      "source": [
        "''' Now from this I have to learn machine learning data_Analytics'''\n",
        "import numpy as np\n",
        "from sklearn.model_selection import cross_validate, train_test_split\n",
        "from sklearn import metrics\n",
        "from sklearn.metrics import mean_squared_error\n",
        "from sklearn.model_selection import cross_val_score\n",
        "def modelfit(alg, dtrain, dtest, predictors, target, IDcol, filename):\n",
        "    #Fit the algorithm on the data\n",
        "    alg.fit(dtrain[predictors], dtrain[target])\n",
        "        \n",
        "    #Predict training set:\n",
        "    dtrain_predictions = alg.predict(dtrain[predictors])\n",
        "\n",
        "    #Perform cross-validation:\n",
        "    cv_score = cross_val_score(alg, dtrain[predictors], dtrain[target], cv=20, scoring='neg_mean_squared_error')\n",
        "    cv_score = np.sqrt(np.abs(cv_score))\n",
        "    \n",
        "    #Print model report:\n",
        "    print (\"\\nModel Report\")\n",
        "    print (\"RMSE : %.4g\" % np.sqrt(metrics.mean_squared_error(dtrain[target].values, dtrain_predictions)))\n",
        "    print (\"CV Score : Mean - %.4g | Std - %.4g | Min - %.4g | Max - %.4g\" % (np.mean(cv_score),np.std(cv_score),np.min(cv_score),np.max(cv_score)))\n",
        "    \n",
        "    #Predict on testing data:\n",
        "    dtest[target] = alg.predict(dtest[predictors])\n",
        "    \n",
        "    #Export submission file:\n",
        "    IDcol.append(target)\n",
        "    submission = pd.DataFrame({ x: dtest[x] for x in IDcol})\n",
        "    submission.to_csv(filename, index=False)\n",
        "    "
      ],
      "execution_count": null,
      "outputs": []
    },
    {
      "cell_type": "code",
      "metadata": {
        "id": "_eIOaUFS9Z0Z",
        "outputId": "c7b3fb3d-b574-4b34-dd72-258e0c6155e4",
        "colab": {
          "base_uri": "https://localhost:8080/",
          "height": 574
        }
      },
      "source": [
        "# Decision Tree Model\n",
        "\n",
        "from sklearn.tree import DecisionTreeRegressor\n",
        "predictors = [x for x in train.columns if x not in [target]+IDcol]\n",
        "alg3 = DecisionTreeRegressor(max_depth=15, min_samples_leaf=100)\n",
        "modelfit(alg3, train, test, predictors, target, IDcol, 'alg3.csv')\n",
        "coef3 = pd.Series(alg3.feature_importances_, predictors).sort_values(ascending=False)\n",
        "coef3.plot(kind='bar', title='Feature Importances')\n",
        "\n",
        "print(\"Model has been successfully created and trained. The predicted result is in alg3.csv\")\n"
      ],
      "execution_count": null,
      "outputs": [
        {
          "output_type": "stream",
          "text": [
            "\n",
            "Model Report\n",
            "RMSE : 1059\n",
            "CV Score : Mean - 1090 | Std - 74.92 | Min - 932.5 | Max - 1266\n"
          ],
          "name": "stdout"
        },
        {
          "output_type": "stream",
          "text": [
            "/usr/local/lib/python3.6/dist-packages/ipykernel_launcher.py:24: SettingWithCopyWarning: \n",
            "A value is trying to be set on a copy of a slice from a DataFrame.\n",
            "Try using .loc[row_indexer,col_indexer] = value instead\n",
            "\n",
            "See the caveats in the documentation: http://pandas.pydata.org/pandas-docs/stable/indexing.html#indexing-view-versus-copy\n"
          ],
          "name": "stderr"
        },
        {
          "output_type": "stream",
          "text": [
            "Model has been successfully created and trained. The predicted result is in alg3.csv\n"
          ],
          "name": "stdout"
        },
        {
          "output_type": "display_data",
          "data": {
            "image/png": "[encoded data removed]",
            "text/plain": [
              "<Figure size 432x288 with 1 Axes>"
            ]
          },
          "metadata": {
            "tags": []
          }
        }
      ]
    },
    {
      "cell_type": "code",
      "metadata": {
        "id": "NuaH-M1zF_nb",
        "outputId": "c5c7924d-f68d-49b5-b0b5-f37adccb7655",
        "colab": {
          "base_uri": "https://localhost:8080/",
          "height": 574
        }
      },
      "source": [
        "# Decision Tree Model\n",
        "\n",
        "from sklearn.tree import DecisionTreeRegressor\n",
        "predictors = [x for x in train.columns if x not in [target]+IDcol]\n",
        "alg3 = DecisionTreeRegressor(max_depth=8, min_samples_leaf=150)\n",
        "modelfit(alg3, train, test, predictors, target, IDcol, 'alg3.csv')\n",
        "coef3 = pd.Series(alg3.feature_importances_, predictors).sort_values(ascending=False)\n",
        "coef3.plot(kind='bar', title='Feature Importances')\n",
        "\n",
        "print(\"Model has been successfully created and trained. The predicted result is in alg3.csv\")"
      ],
      "execution_count": null,
      "outputs": [
        {
          "output_type": "stream",
          "text": [
            "\n",
            "Model Report\n",
            "RMSE : 1068\n",
            "CV Score : Mean - 1093 | Std - 77.02 | Min - 931.8 | Max - 1268\n",
            "Model has been successfully created and trained. The predicted result is in alg3.csv\n"
          ],
          "name": "stdout"
        },
        {
          "output_type": "stream",
          "text": [
            "/usr/local/lib/python3.6/dist-packages/ipykernel_launcher.py:24: SettingWithCopyWarning: \n",
            "A value is trying to be set on a copy of a slice from a DataFrame.\n",
            "Try using .loc[row_indexer,col_indexer] = value instead\n",
            "\n",
            "See the caveats in the documentation: http://pandas.pydata.org/pandas-docs/stable/indexing.html#indexing-view-versus-copy\n"
          ],
          "name": "stderr"
        },
        {
          "output_type": "display_data",
          "data": {
            "image/png": "[encoded data removed]",
            "text/plain": [
              "<Figure size 432x288 with 1 Axes>"
            ]
          },
          "metadata": {
            "tags": []
          }
        }
      ]
    },
    {
      "cell_type": "code",
      "metadata": {
        "id": "s9MI5AOSGsNk",
        "outputId": "6cae3d54-37c0-4770-9488-83c5bf301837",
        "colab": {
          "base_uri": "https://localhost:8080/",
          "height": 232
        }
      },
      "source": [
        "predictors = ['Item_MRP','Item_Visibility_MeanRatio','Outlet_5','Outlet_Type_3']\n",
        "alg4 = DecisionTreeRegressor(max_depth=8, min_samples_leaf=150)\n",
        "modelfit(alg4, train, test, predictors, target, IDcol, 'alg4.csv')\n",
        "coef4 = pd.Series(alg4.feature_importances_, predictors).sort_values(ascending=False)\n",
        "coef4.plot(kind='bar', title='Feature Importances')"
      ],
      "execution_count": null,
      "outputs": [
        {
          "output_type": "error",
          "ename": "NameError",
          "evalue": "ignored",
          "traceback": [
            "\u001b[0;31m---------------------------------------------------------------------------\u001b[0m",
            "\u001b[0;31mNameError\u001b[0m                                 Traceback (most recent call last)",
            "\u001b[0;32m<ipython-input-1-abce54682bc5>\u001b[0m in \u001b[0;36m<module>\u001b[0;34m()\u001b[0m\n\u001b[1;32m      1\u001b[0m \u001b[0mpredictors\u001b[0m \u001b[0;34m=\u001b[0m \u001b[0;34m[\u001b[0m\u001b[0;34m'Item_MRP'\u001b[0m\u001b[0;34m,\u001b[0m\u001b[0;34m'Item_Visibility_MeanRatio'\u001b[0m\u001b[0;34m,\u001b[0m\u001b[0;34m'Outlet_5'\u001b[0m\u001b[0;34m,\u001b[0m\u001b[0;34m'Outlet_Type_3'\u001b[0m\u001b[0;34m]\u001b[0m\u001b[0;34m\u001b[0m\u001b[0;34m\u001b[0m\u001b[0m\n\u001b[0;32m----> 2\u001b[0;31m \u001b[0malg4\u001b[0m \u001b[0;34m=\u001b[0m \u001b[0mDecisionTreeRegressor\u001b[0m\u001b[0;34m(\u001b[0m\u001b[0mmax_depth\u001b[0m\u001b[0;34m=\u001b[0m\u001b[0;36m8\u001b[0m\u001b[0;34m,\u001b[0m \u001b[0mmin_samples_leaf\u001b[0m\u001b[0;34m=\u001b[0m\u001b[0;36m150\u001b[0m\u001b[0;34m)\u001b[0m\u001b[0;34m\u001b[0m\u001b[0;34m\u001b[0m\u001b[0m\n\u001b[0m\u001b[1;32m      3\u001b[0m \u001b[0mmodelfit\u001b[0m\u001b[0;34m(\u001b[0m\u001b[0malg4\u001b[0m\u001b[0;34m,\u001b[0m \u001b[0mtrain\u001b[0m\u001b[0;34m,\u001b[0m \u001b[0mtest\u001b[0m\u001b[0;34m,\u001b[0m \u001b[0mpredictors\u001b[0m\u001b[0;34m,\u001b[0m \u001b[0mtarget\u001b[0m\u001b[0;34m,\u001b[0m \u001b[0mIDcol\u001b[0m\u001b[0;34m,\u001b[0m \u001b[0;34m'alg4.csv'\u001b[0m\u001b[0;34m)\u001b[0m\u001b[0;34m\u001b[0m\u001b[0;34m\u001b[0m\u001b[0m\n\u001b[1;32m      4\u001b[0m \u001b[0mcoef4\u001b[0m \u001b[0;34m=\u001b[0m \u001b[0mpd\u001b[0m\u001b[0;34m.\u001b[0m\u001b[0mSeries\u001b[0m\u001b[0;34m(\u001b[0m\u001b[0malg4\u001b[0m\u001b[0;34m.\u001b[0m\u001b[0mfeature_importances_\u001b[0m\u001b[0;34m,\u001b[0m \u001b[0mpredictors\u001b[0m\u001b[0;34m)\u001b[0m\u001b[0;34m.\u001b[0m\u001b[0msort_values\u001b[0m\u001b[0;34m(\u001b[0m\u001b[0mascending\u001b[0m\u001b[0;34m=\u001b[0m\u001b[0;32mFalse\u001b[0m\u001b[0;34m)\u001b[0m\u001b[0;34m\u001b[0m\u001b[0;34m\u001b[0m\u001b[0m\n\u001b[1;32m      5\u001b[0m \u001b[0mcoef4\u001b[0m\u001b[0;34m.\u001b[0m\u001b[0mplot\u001b[0m\u001b[0;34m(\u001b[0m\u001b[0mkind\u001b[0m\u001b[0;34m=\u001b[0m\u001b[0;34m'bar'\u001b[0m\u001b[0;34m,\u001b[0m \u001b[0mtitle\u001b[0m\u001b[0;34m=\u001b[0m\u001b[0;34m'Feature Importances'\u001b[0m\u001b[0;34m)\u001b[0m\u001b[0;34m\u001b[0m\u001b[0;34m\u001b[0m\u001b[0m\n",
            "\u001b[0;31mNameError\u001b[0m: name 'DecisionTreeRegressor' is not defined"
          ]
        }
      ]
    },
    {
      "cell_type": "code",
      "metadata": {
        "id": "oJ4LkgPmP2fR",
        "outputId": "6ecb88ed-16e1-4e3a-ec9a-d016333a4170",
        "colab": {
          "base_uri": "https://localhost:8080/",
          "height": 590
        }
      },
      "source": [
        "#Liner Regression model\n",
        "print(\"Creating the models and processing\")\n",
        "from sklearn.linear_model import LinearRegression, Ridge\n",
        "predictors = [x for x in train.columns if x not in [target]+IDcol]\n",
        "# print predictors\n",
        "alg1 = LinearRegression(normalize=True)\n",
        "modelfit(alg1, train, test, predictors, target, IDcol, 'alg1.csv')\n",
        "coef1 = pd.Series(alg1.coef_, predictors).sort_values()\n",
        "coef1.plot(kind='bar', title='Model Coefficients')"
      ],
      "execution_count": null,
      "outputs": [
        {
          "output_type": "stream",
          "text": [
            "Creating the models and processing\n",
            "\n",
            "Model Report\n",
            "RMSE : 1128\n",
            "CV Score : Mean - 1.543e+15 | Std - 5.879e+15 | Min - 1007 | Max - 2.704e+16\n"
          ],
          "name": "stdout"
        },
        {
          "output_type": "stream",
          "text": [
            "/usr/local/lib/python3.6/dist-packages/ipykernel_launcher.py:24: SettingWithCopyWarning: \n",
            "A value is trying to be set on a copy of a slice from a DataFrame.\n",
            "Try using .loc[row_indexer,col_indexer] = value instead\n",
            "\n",
            "See the caveats in the documentation: http://pandas.pydata.org/pandas-docs/stable/indexing.html#indexing-view-versus-copy\n"
          ],
          "name": "stderr"
        },
        {
          "output_type": "execute_result",
          "data": {
            "text/plain": [
              "<matplotlib.axes._subplots.AxesSubplot at 0x7fe9e6293cf8>"
            ]
          },
          "metadata": {
            "tags": []
          },
          "execution_count": 52
        },
        {
          "output_type": "display_data",
          "data": {
            "image/png": "[encoded data removed]",
            "text/plain": [
              "<Figure size 432x288 with 1 Axes>"
            ]
          },
          "metadata": {
            "tags": []
          }
        }
      ]
    }
  ]
}